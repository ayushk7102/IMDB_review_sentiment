{
  "nbformat": 4,
  "nbformat_minor": 0,
  "metadata": {
    "colab": {
      "name": "imdb.ipynb",
      "provenance": []
    },
    "kernelspec": {
      "name": "python3",
      "display_name": "Python 3"
    },
    "language_info": {
      "name": "python"
    }
  },
  "cells": [
    {
      "cell_type": "code",
      "metadata": {
        "id": "ClFnec79h1N8"
      },
      "source": [
        "import numpy as np\n",
        "import pandas as pd\n",
        "\n",
        "%matplotlib inline\n",
        "import matplotlib\n",
        "import matplotlib.pyplot as plt\n",
        "\n",
        "from tensorflow.keras.utils import to_categorical\n",
        "from keras import models\n",
        "from keras import layers\n",
        "from keras.datasets import imdb"
      ],
      "execution_count": 1,
      "outputs": []
    },
    {
      "cell_type": "code",
      "metadata": {
        "id": "B49BSVBtigca"
      },
      "source": [
        "(training_data, training_targets), (testing_data, testing_targets) = imdb.load_data(num_words=10000)\n",
        "data = np.concatenate((training_data, testing_data), axis=0)\n",
        "targets = np.concatenate((training_targets, testing_targets), axis=0)\n",
        "\n"
      ],
      "execution_count": 2,
      "outputs": []
    },
    {
      "cell_type": "code",
      "metadata": {
        "id": "_m2st5yZiyhE"
      },
      "source": [
        "\n",
        "dict_words = imdb.get_word_index(path=\"imdb_word_index.json\")\n"
      ],
      "execution_count": 3,
      "outputs": []
    },
    {
      "cell_type": "code",
      "metadata": {
        "id": "DSmr0wfkkQIY"
      },
      "source": [
        "word_index = imdb.get_word_index()\n",
        "index_word = {v:k for k,v in word_index.items()}\n"
      ],
      "execution_count": 4,
      "outputs": []
    },
    {
      "cell_type": "code",
      "metadata": {
        "id": "v2axc6NORr6a"
      },
      "source": [
        ""
      ],
      "execution_count": 4,
      "outputs": []
    },
    {
      "cell_type": "code",
      "metadata": {
        "colab": {
          "base_uri": "https://localhost:8080/"
        },
        "id": "sNS-gLTlm4HB",
        "outputId": "2a4edc40-31e0-4d69-f434-2f73509507b9"
      },
      "source": [
        "def decode(text):\n",
        "  index = imdb.get_word_index()\n",
        "  reverse_index = dict([(value, key) for (key, value) in index.items()]) \n",
        "  \n",
        "  decoded = \" \".join( [reverse_index.get(i - 3, \"#\") for i in text] )\n",
        "  print(decoded) \n",
        "  \n",
        "decode(data[0])\n",
        "copy_data= data\n"
      ],
      "execution_count": 5,
      "outputs": [
        {
          "output_type": "stream",
          "text": [
            "# this film was just brilliant casting location scenery story direction everyone's really suited the part they played and you could just imagine being there robert # is an amazing actor and now the same being director # father came from the same scottish island as myself so i loved the fact there was a real connection with this film the witty remarks throughout the film were great it was just brilliant so much that i bought the film as soon as it was released for # and would recommend it to everyone to watch and the fly fishing was amazing really cried at the end it was so sad and you know what they say if you cry at a film it must have been good and this definitely was also # to the two little boy's that played the # of norman and paul they were just brilliant children are often left out of the # list i think because the stars that play them all grown up are such a big profile for the whole film but these children are amazing and should be praised for what they have done don't you think the whole story was so lovely because it was true and was someone's life after all that was shared with us all\n"
          ],
          "name": "stdout"
        }
      ]
    },
    {
      "cell_type": "code",
      "metadata": {
        "id": "GP2daCb0vHZ8"
      },
      "source": [
        "def vectorize(sequences, dimension = 10000):\n",
        "  results = np.zeros((len(sequences), dimension))\n",
        "  for i, sequence in enumerate(sequences):\n",
        "    results[i, sequence] = 1\n",
        "  return results\n",
        "\n",
        "data = vectorize(data)\n",
        "targets = np.array(targets).astype(\"float32\")\n",
        "\n",
        "test_x = data[0:10000]\n",
        "test_y = targets[:10000]\n",
        "\n",
        "train_x = data[10000:]\n",
        "train_y = targets[10000:]\n"
      ],
      "execution_count": 6,
      "outputs": []
    },
    {
      "cell_type": "code",
      "metadata": {
        "colab": {
          "base_uri": "https://localhost:8080/"
        },
        "id": "Uya41GZCwuUh",
        "outputId": "7de63b4d-0a75-43ee-a60a-cf85864129cc"
      },
      "source": [
        "model = models.Sequential()\n",
        "model.add(layers.Dense(50, activation= \"relu\", input_shape=(10000, )))\n",
        "\n",
        "model.add(layers.Dropout(0.3, noise_shape=None, seed=None))\n",
        "\n",
        "model.add(layers.Dense(50, activation=\"relu\"))\n",
        "\n",
        "model.add(layers.Dropout(0.3, noise_shape=None, seed=None))\n",
        "\n",
        "model.add(layers.Dense(50, activation=\"relu\"))\n",
        "\n",
        "model.add(layers.Dense(1, activation = \"sigmoid\"))\n",
        "model.summary()\n"
      ],
      "execution_count": 7,
      "outputs": [
        {
          "output_type": "stream",
          "text": [
            "Model: \"sequential\"\n",
            "_________________________________________________________________\n",
            "Layer (type)                 Output Shape              Param #   \n",
            "=================================================================\n",
            "dense (Dense)                (None, 50)                500050    \n",
            "_________________________________________________________________\n",
            "dropout (Dropout)            (None, 50)                0         \n",
            "_________________________________________________________________\n",
            "dense_1 (Dense)              (None, 50)                2550      \n",
            "_________________________________________________________________\n",
            "dropout_1 (Dropout)          (None, 50)                0         \n",
            "_________________________________________________________________\n",
            "dense_2 (Dense)              (None, 50)                2550      \n",
            "_________________________________________________________________\n",
            "dense_3 (Dense)              (None, 1)                 51        \n",
            "=================================================================\n",
            "Total params: 505,201\n",
            "Trainable params: 505,201\n",
            "Non-trainable params: 0\n",
            "_________________________________________________________________\n"
          ],
          "name": "stdout"
        }
      ]
    },
    {
      "cell_type": "code",
      "metadata": {
        "colab": {
          "base_uri": "https://localhost:8080/"
        },
        "id": "cvdyEau1RtKI",
        "outputId": "4b9d745b-6060-4a17-8593-716519baec03"
      },
      "source": [
        "model.compile(optimizer='adam', loss='binary_crossentropy', metrics=[\"accuracy\"] )\n",
        "results = model.fit(train_x, train_y, epochs=2,  batch_size=1000, validation_data=(test_x, test_y))\n"
      ],
      "execution_count": 8,
      "outputs": [
        {
          "output_type": "stream",
          "text": [
            "Epoch 1/2\n",
            "40/40 [==============================] - 3s 62ms/step - loss: 0.5115 - accuracy: 0.7622 - val_loss: 0.2934 - val_accuracy: 0.8851\n",
            "Epoch 2/2\n",
            "40/40 [==============================] - 2s 54ms/step - loss: 0.2568 - accuracy: 0.9031 - val_loss: 0.2580 - val_accuracy: 0.8981\n"
          ],
          "name": "stdout"
        }
      ]
    },
    {
      "cell_type": "code",
      "metadata": {
        "colab": {
          "base_uri": "https://localhost:8080/"
        },
        "id": "GdsUYWdeSr3t",
        "outputId": "8a05f8f8-171c-49cf-87d5-700c51d3f8f0"
      },
      "source": [
        "print(np.mean(results.history[\"val_accuracy\"]))"
      ],
      "execution_count": 9,
      "outputs": [
        {
          "output_type": "stream",
          "text": [
            "0.8916000127792358\n"
          ],
          "name": "stdout"
        }
      ]
    },
    {
      "cell_type": "code",
      "metadata": {
        "colab": {
          "base_uri": "https://localhost:8080/"
        },
        "id": "GzzE0wjPVh5Q",
        "outputId": "6a8d759a-4229-4858-c0c3-d53ca32e0074"
      },
      "source": [
        "\n",
        "for i in range(50):\n",
        "  print(decode(copy_data[i]))\n",
        "  pred = model.predict(test_x[i].reshape(1, 10000))\n",
        "  print('Prediction prob = ', pred, '\\t Actual =', test_y[i])"
      ],
      "execution_count": 11,
      "outputs": [
        {
          "output_type": "stream",
          "text": [
            "# this film was just brilliant casting location scenery story direction everyone's really suited the part they played and you could just imagine being there robert # is an amazing actor and now the same being director # father came from the same scottish island as myself so i loved the fact there was a real connection with this film the witty remarks throughout the film were great it was just brilliant so much that i bought the film as soon as it was released for # and would recommend it to everyone to watch and the fly fishing was amazing really cried at the end it was so sad and you know what they say if you cry at a film it must have been good and this definitely was also # to the two little boy's that played the # of norman and paul they were just brilliant children are often left out of the # list i think because the stars that play them all grown up are such a big profile for the whole film but these children are amazing and should be praised for what they have done don't you think the whole story was so lovely because it was true and was someone's life after all that was shared with us all\n",
            "None\n",
            "Prediction prob =  [[0.9903514]] \t Actual = 1.0\n",
            "# big hair big boobs bad music and a giant safety pin these are the words to best describe this terrible movie i love cheesy horror movies and i've seen hundreds but this had got to be on of the worst ever made the plot is paper thin and ridiculous the acting is an abomination the script is completely laughable the best is the end showdown with the cop and how he worked out who the killer is it's just so damn terribly written the clothes are sickening and funny in equal # the hair is big lots of boobs # men wear those cut # shirts that show off their # sickening that men actually wore them and the music is just # trash that plays over and over again in almost every scene there is trashy music boobs and # taking away bodies and the gym still doesn't close for # all joking aside this is a truly bad film whose only charm is to look back on the disaster that was the 80's and have a good old laugh at how bad everything was back then\n",
            "None\n",
            "Prediction prob =  [[0.00584197]] \t Actual = 0.0\n",
            "# this has to be one of the worst films of the 1990s when my friends i were watching this film being the target audience it was aimed at we just sat watched the first half an hour with our jaws touching the floor at how bad it really was the rest of the time everyone else in the theatre just started talking to each other leaving or generally crying into their popcorn that they actually paid money they had # working to watch this feeble excuse for a film it must have looked like a great idea on paper but on film it looks like no one in the film has a clue what is going on crap acting crap costumes i can't get across how # this is to watch save yourself an hour a bit of your life\n",
            "None\n",
            "Prediction prob =  [[0.0065001]] \t Actual = 0.0\n",
            "# the # # at storytelling the traditional sort many years after the event i can still see in my # eye an elderly lady my friend's mother retelling the battle of # she makes the characters come alive her passion is that of an eye witness one to the events on the # heath a mile or so from where she lives br br of course it happened many years before she was born but you wouldn't guess from the way she tells it the same story is told in bars the length and # of scotland as i discussed it with a friend one night in # a local cut in to give his version the discussion continued to closing time br br stories passed down like this become part of our being who doesn't remember the stories our parents told us when we were children they become our invisible world and as we grow older they maybe still serve as inspiration or as an emotional # fact and fiction blend with # role models warning stories # magic and mystery br br my name is # like my grandfather and his grandfather before him our protagonist introduces himself to us and also introduces the story that stretches back through generations it produces stories within stories stories that evoke the # wonder of scotland its rugged mountains # in # the stuff of legend yet # is # in reality this is what gives it its special charm it has a rough beauty and authenticity # with some of the finest # singing you will ever hear br br # # visits his grandfather in hospital shortly before his death he burns with frustration part of him # to be in the twenty first century to hang out in # but he is raised on the western # among a # speaking community br br yet there is a deeper conflict within him he # to know the truth the truth behind his # ancient stories where does fiction end and he wants to know the truth behind the death of his parents br br he is pulled to make a last # journey to the # of one of # most # mountains can the truth be told or is it all in stories br br in this story about stories we # bloody battles # lovers the # of old and the sometimes more # # of accepted truth in doing so we each connect with # as he lives the story of his own life br br # the # # is probably the most honest # and genuinely beautiful film of scotland ever made like # i got slightly annoyed with the # of hanging stories on more stories but also like # i # this once i saw the # picture ' forget the box office # of braveheart and its like you might even # the # famous # of the wicker man to see a film that is true to scotland this one is probably unique if you maybe # on it deeply enough you might even re # the power of storytelling and the age old question of whether there are some truths that cannot be told but only experienced\n",
            "None\n",
            "Prediction prob =  [[0.9991785]] \t Actual = 1.0\n",
            "# worst mistake of my life br br i picked this movie up at target for 5 because i figured hey it's sandler i can get some cheap laughs i was wrong completely wrong mid way through the film all three of my friends were asleep and i was still suffering worst plot worst script worst movie i have ever seen i wanted to hit my head up against a wall for an hour then i'd stop and you know why because it felt damn good upon bashing my head in i stuck that damn movie in the # and watched it burn and that felt better than anything else i've ever done it took american psycho army of darkness and kill bill just to get over that crap i hate you sandler for actually going through with this and ruining a whole day of my life\n",
            "None\n",
            "Prediction prob =  [[0.01664284]] \t Actual = 0.0\n",
            "# begins better than it ends funny that the russian submarine crew # all other actors it's like those scenes where documentary shots br br spoiler part the message # was contrary to the whole story it just does not # br br\n",
            "None\n",
            "Prediction prob =  [[0.46591544]] \t Actual = 0.0\n",
            "# lavish production values and solid performances in this straightforward adaption of jane # satirical classic about the marriage game within and between the classes in # 18th century england northam and paltrow are a # mixture as friends who must pass through # and lies to discover that they love each other good humor is a # virtue which goes a long way towards explaining the # of the aged source material which has been toned down a bit in its harsh # i liked the look of the film and how shots were set up and i thought it didn't rely too much on # of head shots like most other films of the 80s and 90s do very good results\n",
            "None\n",
            "Prediction prob =  [[0.96946615]] \t Actual = 1.0\n",
            "# the # tells the story of the four hamilton siblings teenager francis # # twins # joseph # # # # the # david samuel who is now the surrogate parent in charge the # move house a lot # is unsure why is unhappy with the way things are the fact that his brother's sister kidnap # murder people in the basement doesn't help relax or calm # nerves either francis # something just isn't right when he eventually finds out the truth things will never be the same again br br co written co produced directed by mitchell # phil # as the butcher brothers who's only other film director's credit so far is the april # day 2008 remake enough said this was one of the # to die # at the 2006 after dark # or whatever it's called in keeping with pretty much all the other's i've seen i thought the # was complete total utter crap i found the character's really poor very unlikable the slow moving story failed to capture my imagination or sustain my interest over it's 85 a half minute too long # minute duration the there's the awful twist at the end which had me laughing out loud there's this really big # build up to what's inside a # thing in the # basement it's eventually revealed to be a little boy with a teddy is that really supposed to scare us is that really supposed to shock us is that really something that is supposed to have us talking about it as the end credits roll is a harmless looking young boy the best # ending that the makers could come up with the boring plot # along it's never made clear where the # get all their money from to buy new houses since none of them seem to work except david in a # i doubt that pays much or why they haven't been caught before now the script tries to mix in every day drama with potent horror it just does a terrible job of combining the two to the extent that neither aspect is memorable or effective a really bad film that i am struggling to say anything good about br br despite being written directed by the extreme sounding butcher brothers there's no gore here there's a bit of blood splatter a few scenes of girls # up in a basement but nothing you couldn't do at home yourself with a bottle of # # a camcorder the film is neither scary since it's got a very middle class suburban setting there's zero atmosphere or mood there's a lesbian suggest incestuous kiss but the # is low on the exploitation scale there's not much here for the horror crowd br br filmed in # in california this has that modern low budget look about it it's not badly made but rather forgettable the acting by an unknown to me cast is nothing to write home about i can't say i ever felt anything for anyone br br the # commits the # sin of being both dull boring from which it never # add to that an ultra thin story no gore a rubbish ending character's who you don't give a toss about you have a film that did not impress me at all\n",
            "None\n",
            "Prediction prob =  [[0.00041467]] \t Actual = 0.0\n",
            "# just got out and cannot believe what a brilliant documentary this is rarely do you walk out of a movie theater in such awe and # lately movies have become so over hyped that the thrill of discovering something truly special and unique rarely happens # # did this to me when it first came out and this movie is doing to me now i didn't know a thing about this before going into it and what a surprise if you hear the concept you might get the feeling that this is one of those # movies about an amazing triumph covered with over the top music and trying to have us fully convinced of what a great story it is telling but then not letting us in # this is not that movie the people tell the story this does such a good job of capturing every moment of their involvement while we enter their world and feel every second with them there is so much beyond the climb that makes everything they go through so much more tense touching the void was also a great doc about mountain climbing and showing the intensity in an engaging way but this film is much more of a human story i just saw it today but i will go and say that this is one of the best documentaries i have ever seen\n",
            "None\n",
            "Prediction prob =  [[0.9990369]] \t Actual = 1.0\n",
            "# this movie has many problem associated with it that makes it come off like a low budget class project from someone in film school i have to give it credit on its # though many times throughout the movie i found myself laughing hysterically it was so bad at times that it was comical which made it a fun watch br br if you're looking for a low grade slasher movie with a twist of psychological horror and a dash of campy # then pop a bowl of popcorn invite some friends over and have some fun br br i agree with other comments that the sound is very bad dialog is next to impossible to follow much of the time and the soundtrack is kind of just there\n",
            "None\n",
            "Prediction prob =  [[0.11064851]] \t Actual = 0.0\n",
            "# french horror cinema has seen something of a revival over the last couple of years with great films such as inside and # romance # on to the scene # # the revival just slightly but stands head and shoulders over most modern horror titles and is surely one of the best french horror films ever made # was obviously shot on a low budget but this is made up for in far more ways than one by the originality of the film and this in turn is # by the excellent writing and acting that ensure the film is a winner the plot focuses on two main ideas prison and black magic the central character is a man named # sent to prison for fraud he is put in a cell with three others the quietly insane # body building # marcus and his retarded boyfriend daisy after a short while in the cell together they stumble upon a hiding place in the wall that contains an old # after # part of it they soon realise its magical powers and realise they may be able to use it to break through the prison walls br br black magic is a very interesting topic and i'm actually quite surprised that there aren't more films based on it as there's so much scope for things to do with it it's fair to say that # makes the best of it's # as despite it's # the film never actually feels restrained and manages to flow well throughout director eric # provides a great atmosphere for the film the fact that most of it takes place inside the central prison cell # that the film feels very claustrophobic and this immensely benefits the central idea of the prisoners wanting to use magic to break out of the cell it's very easy to get behind them it's often said that the unknown is the thing that really # people and this film proves that as the director # that we can never really be sure of exactly what is round the corner and this helps to ensure that # actually does manage to be quite frightening the film is memorable for a lot of reasons outside the central plot the characters are all very interesting in their own way and the fact that the book itself almost takes on its own character is very well done anyone worried that the film won't deliver by the end won't be disappointed either as the ending both makes sense and manages to be quite horrifying overall # is a truly great horror film and one of the best of the decade highly recommended viewing\n",
            "None\n",
            "Prediction prob =  [[0.9994292]] \t Actual = 1.0\n",
            "# when i rented this movie i had very low expectations but when i saw it i realized that the movie was less a lot less than what i expected the actors were bad the doctor's wife was one of the worst the story was so stupid it could work for a disney movie except for the murders but this one is not a comedy it is a laughable masterpiece of stupidity the title is well chosen except for one thing they could add stupid movie after dead husbands i give it 0 and a half out of 5\n",
            "None\n",
            "Prediction prob =  [[0.02020615]] \t Actual = 0.0\n",
            "# i love cheesy horror flicks i don't care if the acting is sub par or whether the monsters look corny i liked this movie except for the # feeling all the way from the beginning of the film to the very end look i don't need a 10 page # or a sign with big letters explaining a plot to me but dark floors takes the what is this movie about thing to a whole new annoying level what is this movie about br br this isn't exceptionally scary or thrilling but if you have an hour and a half to kill and or you want to end up feeling frustrated and confused rent this winner\n",
            "None\n",
            "Prediction prob =  [[0.07542658]] \t Actual = 0.0\n",
            "# anyone who could find redeeming value in this piece of crap ought to have their head examined we have the # heroin addicted part time hooker wife with # all over her body # received from repeated # by an abusive son now she is # breast milk all over the kitchen floor the release so gained somehow akin to helen # placing her hands in running water we have the husband who starts out by # a prostitute who just happens to be his daughter she's upset with him because he came too quickly and ends by murdering his female colleague having sex with her corpse and then # her up we have the kid who is relentlessly # by his classmates and who comes home and beats his mom you see it's all # deep huh the only decent moment in this horrendous pile of tripe is when the dad murders his son's # it's a good thing this turkey was shot on video because otherwise what a waste of expensive film it would be if that guy who thinks artists ought to be interested in this # is really serious no wonder most people think artists are insane we saw this lousy movie then put on zero woman the accused oh my god it was a # as to which one was worse what is going on in japan these days sick sick sick\n",
            "None\n",
            "Prediction prob =  [[0.00284502]] \t Actual = 0.0\n",
            "# b movie at best sound effects are pretty good lame concept decent execution i suppose it's a rental br br you put some # oil in your mouth to save you from de poison # you cut de bite and suck out de # you gonna be ok tommy br br you stay by the # when agent harris calls you get me give me a fire # br br weapons we need weapons where's the # all we have is this # br br dr price is the snake expert br br local # can handle the occasional # alert every er in the # city area\n",
            "None\n",
            "Prediction prob =  [[0.03718698]] \t Actual = 0.0\n",
            "# a total waste of time just throw in a few explosions non stop fighting exotic cars a deranged millionaire slow motion computer generated car crashes and last but not least a hugh # like character with wall to wall hot babes and mix in a # and you will have this sorry excuse for a movie i really got a laugh out of the dr evil like heavily # compound the plot was somewhere between preposterous and non existent how many # are willing to make a 25 million dollar bet on a car race answer 4 but didn't they become # through # responsibility this was written for # males it plays like a video game i did enjoy the # ii landing in the desert though\n",
            "None\n",
            "Prediction prob =  [[0.02678013]] \t Actual = 0.0\n",
            "# laputa castle in the sky is the bomb the message is as strong as his newer works and more pure fantastic and flying pirates how could it be any better the art is totally amazing and the soundtrack which is # many times after this im not sure if this was the first time i heard it and evokes in me the most emotional sentimental response of any movie soundtrack # the female lead in this movie is totally awesome and the boy # is also a great role model he lives on his own the plot is classic miyazaki i won't give it away but the end is really great i rank this as one of miyazaki's three best with # and spirited away also you may want to check out # moving castle when it comes out sometime next year i hope if you like miyazaki check this one out as it readily available in the usa enjoy # a\n",
            "None\n",
            "Prediction prob =  [[0.9986655]] \t Actual = 1.0\n",
            "# at the height of the # big # racism row in 2007 involving # # and the late # # i condemned on an internet forum those # b b ' fans who praised the show after years of bashing # # sitcoms such as # # # # # i thought they were being # and said so # ain't half hot # was then thrown into the argument with some pointing out it had starred an english actor # up well yes but michael bates had lived in india as a boy and spoke # # the show's # overlook the reality he brought to his performance as # # # the noted indian character actor # # said in a 1995 documentary # # the # that he was upset when he heard bates had landed the role but added no indian actor could have played that role as well as bates indeed br br # was perry and # companion show to # # also set in wartime the # english town of # on sea had been replaced by the hot steamy # of india in particularly a place called # where an army concert party puts on shows for the troops among them # # george # his first sitcom role since # in # camp # # # melvyn hayes # # # # # de # # graham john # and # # the late christopher mitchell # over this gang of # was the # sergeant major williams the brilliant # davies who regarded them all as # his frustration at not being able to lead his men up the jungle to engage the enemy in combat made him bitter and bullying though he was nice to # whom he thought was his # son then there was ever so english colonel reynolds donald # and # captain # michael # # was like a wise old # beginning each show by talking to the camera and closing them by # obscure # # he loved being # so much he came to regard himself as practically british his friends were the tea making # # the late # # who went on to # your # and the rope pulling # # # # so real indians featured in the show another point its # ignore # also provided what was described on the credits as # # similar to the # songs used as incidental music on # # each edition closed with him # # of hope # only to be # by a # up ' from williams the excellent opening theme was penned by jimmy perry and derek # br br though never quite # # # in the # affections # nevertheless was popular enough to run for a total of eight seasons in 1975 davies and # topped the # with a cover version of that old # # # they then recorded an entire album of old # entitled what else # # ' br br the show hit crisis point three years later when bates died of cancer rather than # the role of # the writers just let him be quietly forgotten when george # left the character of # took his place as # providing another source of comedy br br the last edition in 1981 saw the soldiers leave india by boat for # the # # watching them go with great sadness as did viewers br br repeats have been few and far between mainly on u k gold all because of its so called # reputation this is strange for one thing the show was not specifically about racism if a white man # up is so wrong why does david # 1984 film 'a passage to # still get shown on television it featured alec guinness as an indian and won two oscars it was derived from jimmy # own experiences some characters were based on real people the sergeant major really did refer to his men as # i take the view that if you are going to put history on television get it right # the past no matter how # it might seem to modern audiences is # # # was both funny and truthful and viewers saw this thank heavens for d v d 's i say time to stop this review as williams would say i'll have no # in this jungle\n",
            "None\n",
            "Prediction prob =  [[0.94823873]] \t Actual = 1.0\n",
            "# i have only had the luxury of seeing this movie once when i was rather young so much of the movie is # in trying to remember it however i can say it was not as funny as a movie called killer tomatoes should have been and the most memorable things from this movie are the song and the scene with the elderly couple talking about poor timmy other than that the movie is really just scenes of little tomatoes and big tomatoes rolling around and people acting scared and overacting as people should do in a movie of this type however just having a very silly premise and a catchy theme song do not a good comedy make granted this movie is supposed to be a b movie nothing to be taken seriously however you should still make jokes that are funny and not try to # a mildly amusing premise into a full # movie perhaps a short would have been fine as the trailer showing the elderly couple mentioned above and a man desperately trying to gun down a larger # was actually pretty good the trailer itself looked like a mock trailer but no they indeed made a full movie and a rather weak one at that\n",
            "None\n",
            "Prediction prob =  [[0.03178427]] \t Actual = 0.0\n",
            "# chances are is a charming romantic fantasy about a woman # shepherd whose husband christopher # is killed shortly after learning she is pregnant we then see the husband in heaven letting the powers that be know that he was taken too soon and that his wife needs him he is told he can return to earth but not as himself # 19 years where we see # daughter mary stuart masterson preparing to graduate from college and # a young man robert downey jr who it turns out is the reincarnation of her father the film is a little on the predictable side the story goes all the places you expect it to but it is so # played by an energetic cast especially shepherd and downey that you can't help but get wrapped up in the fun shepherd has rarely been seen on screen to better advantage and she and downey are backed by a talented group of character actors in supporting roles a lovely and charming fantasy that will # and # you\n",
            "None\n",
            "Prediction prob =  [[0.9517678]] \t Actual = 1.0\n",
            "# shown in australia as # this incredibly bad movie is so bad that you become # and have to watch it to the end just to see if it could get any worse and it does the storyline is so predictable it seems written by a high school # class the sets are pathetic but # better than the # and the acting is wooden br br the # # seems to have been stolen from the props # of # # there didn't seem to be a single original idea in the whole movie br br i found this movie to be so bad that i laughed most of the way through br br malcolm mcdowell should hang his head in shame he obviously needed the money\n",
            "None\n",
            "Prediction prob =  [[0.00491923]] \t Actual = 0.0\n",
            "# despite some occasionally original touches like the virtual sets that provide the background for the victorian interiors featuring # # and her circle this film falls short and ultimately disappoints newcomer # # seems talented but is wasted as emmy a character who by mid film is reduced to nothing more than staring at a # watching lady # # an autobiography # # takes off briefly when lady # # # appears the camera # on her facial expressions mannerisms even making her appear to be # or # invisible # into scenes to # # virtual rendering of her br br a straightforward biopic of # # would have been worthwhile but this film unfortunately makes a # of both lady # life and that of a modern day computer scientist and her # drawn # boyfriend\n",
            "None\n",
            "Prediction prob =  [[0.02512029]] \t Actual = 0.0\n",
            "# i hate reading reviews that say something like # waste your time this film stinks on ice ' it does to that reviewer yet for me it may have some sort of # charm if you like the other # series films this one will be watchable if you like 40s # films this one will be watchable br br this film is not as good in my opinion as any of the earlier series entries which starred richard # as the protagonist it's much slower and the plot is trite you've seen this same narrative device used in many other films and usually better br br but the acting is good and so is the lighting and the dialog it's just lacking in energy and you'll likely figure out exactly what's going on and how it's all going to come out in the end not more than a quarter of the way through br br the # series is semi noir and there character mood lighting camera movement and angles are more important than the story itself but this film is not noir it's too light weight and hollywood innocent for that neither richard # character nor those of any of his ladies in the previous films had to come to a good end you just never knew until the end br br but still i'll recommend this one for at least a single viewing i've watched it at least twice myself and got a reasonable amount of enjoyment out of it both times\n",
            "None\n",
            "Prediction prob =  [[0.09123981]] \t Actual = 1.0\n",
            "# the problems with # # # e # are many a one line concept that looks good on paper which also worked in an earlier english film love actually goes terribly wrong thanks to inept and shallow writing a well # idea gets crushed to # under the weight of its own # ambition a director so completely # by his own much # first film goes overboard with the devices that worked in his earlier film # ho # ho try counting the number of times the device of split screens is used in this flick the problem is what worked # in # ho # ho were the emotional # of the # # school of film making but here # doesn't quite grace us with its appearance on the screen no not even # the writer director gives us # relationships with one common problem # but where is the intensity where is the depth where is the # a # to # sans emotion and one that goes on and on and on # it just cannot work br br in my opinion the basic # for a # film like this to work is that not only should each individual story be # it should in some way or the other follow the # of the traditional three act structure screen writing guru # # # that's the real reason why # e # didn't work for me none of the stories had any depth or a roller coaster ride of emotional ups and downs one expects in mainstream hindi cinema also the # between some of the stories seemed # and very forced it's not clear what salman khan is doing at # # wedding if he was required to be present at the wedding scene for a neat wrap up why not # a few more # and bring the other two couples also to the wedding that would be # br br but yes some of the stories did have a lot of promise for one the anil kapoor # # story tries to address a very real situation mid life crisis but its journey is so linear that you're left wondering if it was really an issue similarly the problem of commitment in the # # # # story is also true to life if only it was developed a little better i felt that the more promising stories in this # mash were told from the male point of view which is fine but it brings down the emotional # of these stories because the female characters # # and # # in particular have all the depth of a half filled bath # wasn't this film supposed to be about # different # now the actors john abraham still needs to learn acting while # # is # and endearing as ever anil kapoor gets a role written just for him but sometimes # the boredom of his character since she didn't get a # character to portray # # uses her charming smile and natural acting style to cover up for it # # is fine despite going a # over the top in a few scenes # # has nothing much to do but she does remind us that she's the same girl who surprised us with her # performance in # govinda tries to make up for that huge mistake called # # and succeeds to a large extent br br that brings me the most irritating track of the film which # ends up # the maximum screen time salman khan and # # the track is irritating mainly because of them but i must credit them for their # they're consistently bad all through the film # could well be the next queen of # i don't buy the crap that her role that of an # # required her to act over the top somebody should tell her the difference between being flamboyant because the character demands it and downright # if you've seen # # who seems to be the inspiration behind this role in her interviews and # boss you'll know what i mean i strongly feel that if # # had taken # # in this role rather than a bigger star like # the story would have worked better salman # phony accent is well shannon # hindi is less # than # br br to be fair to the director he does manage to add some good directorial touches to the film i particularly liked the use of grey as the # color in the anil kapoor # # story as a metaphor for their boring existence and the bright colors that come into the story with the arrival of the other woman but will anyone choose to paint their house in varying depressing shades of grey that's acceptable cinematic license i would say but when the film runs almost for 4 hours it almost feels like the director is trying too hard to give the audience a glimpse of his # in an endlessly meandering montage of uninspiring sequences br br maybe # # wants us to sit in the theatre for as long as is # possible # # # ho # ho\n",
            "None\n",
            "Prediction prob =  [[0.00254738]] \t Actual = 0.0\n",
            "# the original demille movie was made in 1938 with # march a very good film indeed hollywood's love of remakes brings us a fairly interesting movie starring # # he of course was brilliant as he almost always seemed to be in all of his movies charlton heston as andrew jackson was a stroke of genius however the movie did tend to get a little long in places it does not move at the pace of the 1938 version still it is a fun movie that should be seen at least once\n",
            "None\n",
            "Prediction prob =  [[0.95052063]] \t Actual = 1.0\n",
            "# this is a very light headed comedy about a wonderful family that has a son called pecker because he use to peck at his food pecker loves to take all kinds of pictures of the people in a small # of # # and manages to get the attention of a group of photo art lovers from new york city pecker has a cute sister who goes simply nuts over sugar and is actually an addict taking # of sugar from a bag there are scenes of men showing off the # in their # with # movements and # doing pretty much the same it is rather hard to keep your mind out of the # with this film but who cares it is only a film to give you a few laughs at a simple picture made in 1998\n",
            "None\n",
            "Prediction prob =  [[0.9696182]] \t Actual = 1.0\n",
            "# the dvd version consists of 2 episodes the # of # being the # in addition the language was spanish without subtitles hence it's hard for me to review in depth this movie because because i didn't understand what was said br br # being an historic icon the part is very difficult and i found that for a newcomer # # just plays fine she is strong # but also a very supportive tender soul mate # dalton as # is perfect and their romance is the main thing of the first episode so it is not really a documentary nor a # but a great love story br br after the # a new lover comes marc # but the flavor is gone we remember always our first love so i found the second episode dull and their tragic fate isn't told # br br nonetheless the production is # the sets are big # # the # live location exotic and the # splendid the producers have a lot of money for sure but they spend nothing on the special effects they are so poor blue screens ships # that it's funny br br finally i would like very much to hear it in french or english to make a definitive opinion about this two movies\n",
            "None\n",
            "Prediction prob =  [[0.97518003]] \t Actual = 0.0\n",
            "# we had to go to an # so we turned on the # to record the ending after it was over i looked at my husband and said do you have a clue he # his head no i said so you made me watch the end of this movie and i have no clue what just happened he didn't make me but you know br br the movie body itself was quite good there was a lot of suspense it kept you wondering then came the ending the ending was well it just ended you weren't let in on what happened or why right up until the credits i kept thinking something would happen to explain it but it never did so i came here expecting someone figured it out and i just wasn't paying attention nope here four years later i'm just as clueless as tom # was br br i still have no clue what went on i'm just glad i didn't waste any to buy it because i sure would have been mad br br # i get it the end of the movie is what disappeared #\n",
            "None\n",
            "Prediction prob =  [[0.08214352]] \t Actual = 0.0\n",
            "# bela lugosi appeared in several of these low budget # for # studios in the 1940's and the corpse # is one of the better ones br br bela plays a mad scientist who kidnaps young brides and kills them and then # fluid from their bodies so he can keep his # wife looking young after a reporter and a doctor stay the night at his home and discover he is responsible for the # deaths the following morning they report these murders to the police and the mad scientist is shot and drops dead shortly afterwards br br you have got almost everything in this movie the # # consist of an old # a # and dwarf her sons a # and spooky # in # house bela and his wife find they sleep better in # rather than # in the movie br br the corpse # is worth a look especially for bela lugosi fans great fun br br rating 3 stars out of 5\n",
            "None\n",
            "Prediction prob =  [[0.28206432]] \t Actual = 1.0\n",
            "# i have read the book a couple of times and this movie doesn't follow exactly as it should i could let this slide it is after all a movie however i have serious issues with the setting of the movie nobody has seemed to mention that this movie and the book it is based on are based in actual events that happened in # i live in # i grew up in the town that this movie is supposed to be based on first of all the small town that is talked about as the setting is the third largest city in the state with a population of around 50 000 grand island is the largest city between lincoln and denver second the scenery for the movie is wrong grand island is in the # river valley which is very flat with very few trees i tried watching this movie but it made me mad to see my hometown being treated so bad this was a real event large sections of the city were wiped out in the book they talk about riding # from mormon island to # park i guess you could if you don't mind a 15 mile ride each way for anyone who wants to know what really happened go here http www # com #\n",
            "None\n",
            "Prediction prob =  [[0.06741518]] \t Actual = 0.0\n",
            "# i caught this at a test screening all i can say is what the hell this movie plays out about as smoothly as mickey mouse reading the script for scarface it's bizarre beyond making the slightest bit of sense and even if you do leave your brain in the car the film is still so bizarre that it isn't even funny br br the plot involves crocodile hunter steve irwin trying to save a crocodile which contains a cia # the cia comes after irwin to get their # back irwin mistakes them for # and sets out to stop them br br that's about all the story there is the rest is over the top # of australian culture # see # and # and strangely choreographed action sequences at one point irwin # a # # and knife fights with a cia agent on top of it yes that's right steve irwin knife fights a guy on top of an # let that be your guide for this ridiculously bad film\n",
            "None\n",
            "Prediction prob =  [[0.11658522]] \t Actual = 0.0\n",
            "# a strong woman oriented subject after long director # # # the power the # version of the hollywood hit not without my daughter is actress # first home production a story about a woman's fight against harsh injustice br br the story of the film revolves around # # kapoor who lives in canada with her two # # # # # there she meets # # kapoor falls in love with him and they soon marry their family is complete when # has a boy # master # # but their happiness is short lived as the news of # # mother # naval makes them leave their perfect life in canada and come to india and that's when the problems start from the moment they reach br br india both are shocked to see the # and the vast # of people everywhere they take a crowded train to reach # village and when they finally reach the station they have to catch a long bus drive to his village the filthy # bus combined with the uncertain # makes it a never ending drive and unfortunately for them a # mob that beat # out of shape for no fault of his attacks their bus fortunately they get shot dead just in time before they can further harm him after that they drive to the # # where # father # # # lives with his wife # naval # realized that her father in law is in command as soon as she enters the place but her only # is her mother in # warm welcome br br living there # learns of her father in laws # behavior and realizes that ruthless killing is a way of life for him the day she sees her father in law teach her son to throw a bomb she loses it and # out against him # to # that they move back to canada but terror strikes again when # is murdered one day leaving a broken down # alone with her son in this strange land where she is # by a cruel father in law her fight against this man to save her son is what makes up the climax of this emotional heart wrenching film br br what sets apart # from most films being made off late is also the rural setting of the movie the only # is # # music which fails to rise above the script the only saving grace is the sexy item number # # which has been composed by # # another pat for the director comes because he has # some splendid performances from his cast # kapoor is the life of the film and has given a moving performance as a helpless mother she is sure to win awards for this # portrayal second is actor # # who is back with a bang with this film his # mannerisms suit him to the # and he's shown his # once again with this role # kapoor is the surprise # of the film with a sincere and effective portrayal that stands up against both the other actors # naval too is in top form and her # climax showdown with # is # # cameo provides the lighter moments and surely he's been pulled in to get the required star value though his role was not really required he's done it well overall # is a far superior film than most # out these days and the # release hype is sure to get it a good opening # is sure to get the critics and audience # up so what if the film needs to be desperately # by at least 2 # to better the impact # still has the power to go on without a #\n",
            "None\n",
            "Prediction prob =  [[0.96486366]] \t Actual = 1.0\n",
            "# the first episode immediately gave a good impression what to expect from the series mysteries waiting to be solved and a lot of good drama i love the fact that they gradually reveal the stories concerning the characters explaining just enough to stay excited of course this show has some flaws in the first two series there are some characters who for some reason don't show up in the third season many of the characters have a decent sent off but some of them just aren't there like rose and her husband where the hell are they what happened to them maybe they will return in later episodes but it is a little inconsistent that being said lost manages to be thrilling every episode especially the first two seasons that is a very hard thing to do i do notice that in the third season the focus is more on character development than the mystery aspects of the show this is not a bad thing it even saves some episodes from getting boring one of the elements that can be considered the strength of this show are the wonderful characters you will grow to love these characters good or bad but eventually i will want to see some mysteries to be solved and get closure the danger of lost getting canceled due to # ratings is near and that would be devastating\n",
            "None\n",
            "Prediction prob =  [[0.81546223]] \t Actual = 1.0\n",
            "# i don't know what it is i find so endearing about this film but the first time i saw it i wanted to see how it ended i'm not a big fan of paul # nor of war dramas but i was truly wondering just how and when # would find his child all he knows is that the boy has green eyes truth be told i have not seen this movie in years nor has it been shown on tv in a while but this movie is somewhat of one man's odyssey after the pains of war # shows a very sympathetic and heart warming portrayal of a man lost by his memories there is an underlying message in this movie that he is looking for the last shred of human morality in the aftermath of this war and the reality that he does confront why this movie is not yet on dvd or video is a mystery to me\n",
            "None\n",
            "Prediction prob =  [[0.98807883]] \t Actual = 1.0\n",
            "# many have stated that #  killer whale is a jaws rip off this is not really true though the enormous commercial success of jaws undoubtedly made these man vs beast stories more attractive # for film makers in the second half of the '70s #  killer whale would be better described as a modern day # of # dick it's a story about obsession on one hand a # obsessive quest to avenge the death of its mate on the other a bounty # obsessive quest to kill the whale before it can claim any more lives sadly # killer whale emerges a very disappointing film its # interesting ideas somewhat ruined by hammy performances and preposterous plotting br br shark hunter nolan richard harris encounters a marine life # rachel # charlotte # diving off the atlantic coast of canada their meeting almost ends in disaster when # team are attacked by a great white shark but a killer whale arrives in the nick of time to stop the shark after this nolan becomes increasingly obsessed with capturing a killer whale and selling it to an # but his plans # when he accidentally kills a pregnant female of the species while the # male looks on rachel tells nolan that a killer whale is an incredibly intelligent # with a strong memory and feelings just like a human worse still native # will # warns him that the whale will always remember its grief and do everything it can to have revenge nolan initially tries to forget about the whole # incident but the whale causes havoc in the fishing town and the disgruntled locals begin to demand that nolan puts to sea to track it down and destroy it eventually nolan is forced to pursue the killer # the hunt leads all the way to the desolate ice # of the # ocean where man and beast play out their final fatal battle against each other br br two things stand out in this film one is the haunting score by # # perhaps the greatest composer of film music of all time his talents wasted on various # rate # during the 70s and 80s the other is the amazing widescreen photography of ted moore which makes the film consistently pleasing to the eye in every other department #  killer whale is a shoddy film that does nothing to enhance the reputation of its talented cast and crew harris appears extremely ill throughout the film his hair # black rings around his eyes and skin # pale his performance lacks the usual # # strikes a lot of sexy poses but fails to convince with her long # and ill informed explanations about the ways of # the rest of the actors are wasted in brief and undeveloped roles the most memorable of which sees bo derek getting her leg bitten off by the vengeful whale the plot is total nonsense from start to finish with such preposterous sequences as the whale deliberately starting a fire in the fishing village that # and destroys the local # although it's credible to suppose that # are intelligent creatures with genuine emotions the idea that a whale could plot revenge against a single human # and carry it out so # is utterly absurd #  killer whale is really one for # of the man vs beast cycle from the late 70s most will come away from the film shaking their heads in disbelief and # their teeth with despair\n",
            "None\n",
            "Prediction prob =  [[0.23380315]] \t Actual = 0.0\n",
            "# detective tony rome frank sinatra returns to the screen after his self titled debut this time it's a film that's played for # while on a diving trip rome finds the body of a blonde beauty at the bottom of the sea her feet as you might expect # in # rome immediately on the case after being hired by man mountain # # rome finds himself immediately at risk as he has to investigate some mafia types who turn the tables on him and he is himself found to be the main suspect he must now go on the run and hope to solve the case alone the # sinatra tries hard to sell us the lame jokes and make us believe he is a good detective oh and not to mention being sexually attractive to the # # welch but he fails miserably in this ham # vanity project the frankly laughable denouement that # every female is quite astounding every woman in the film is a # head who likes # over is front of the camera director douglas of course # in # in on the cracks of their # each time as they # their # # there's even a ridiculously campy gay character that # belief this was a film made by real men for real men to # their own # sexuality it's a shameful #\n",
            "None\n",
            "Prediction prob =  [[0.01911241]] \t Actual = 0.0\n",
            "# sorry i just didn't find the subject matter as compelling as the filmmaker did the robot guy and the mole rat guy were pretty interesting although morris didn't really tell us much about them the other two subjects were a bore and the supposed connections between them didn't hold up\n",
            "None\n",
            "Prediction prob =  [[0.11971295]] \t Actual = 0.0\n",
            "# on 24 october 1955 the hard work # of the hadley oil company mitch wayne rock hudson meets the executive secretary lucy moore lauren bacall in the office of her boss bill ryan in new york and invites her to go to a # with the alcoholic playboy and son of a # kyle hadley robert stack on the way of the meeting he # that they had traveled from # to new york to satisfy the wish of the reckless kyle who is his best friend since their childhood of eating a # from club 21 and the meeting was just a # to # father # hadley robert keith mitch and kyle immediately fall in love for lucy and kyle # uses his money to impress lucy then he opens his heart and # lucy they get married and travel to # and the insecure kyle stops drinking meanwhile # sister # dorothy malone is an easy woman and has a non # crush on mitch that sees her as a sister one year later kyle discovers that he has a problem and might be # and starts drinking again the jealous # # kyle telling that his wife and mitch are having a love affair when lucy finds that she is pregnant kyle believes that the baby belongs to mitch and his # leads to a tragedy br br written on the wind is an overrated melodramatic soap opera with artificial characters and situations there are at least two great movies with characters with drinking problem the lost weekend 1945 with stunning performance of ray # and days of wine and # # with awesome performance of jack lemmon robert stack has a reasonable performance and his character's motives for drinking are shallow and clichés in the end the forgettable written on the wind is entertaining only and never a feature to be nominated to the oscar my vote is seven br br title brazil # # # words in the wind\n",
            "None\n",
            "Prediction prob =  [[0.9625181]] \t Actual = 1.0\n",
            "# as with many other pop culture franchise series this line just didn't know when to quit instead of leaving things as they were perfectly ended they went on to generate this the first installment of this franchise to fall sorely short of the mark br br this movie should never have happened it was not intended for there to have been a fourth movie in this line and it sure shows the premise is idiotic and the portrayals were the same br br after the wonderful experience which was the omen this was a major disappointment which # of 70's cheese and horrible acting it was reminiscent of the # horror in those aspects and left a terrible lingering # long after it was over br br it rates a 1 4 10 from br br the fiend\n",
            "None\n",
            "Prediction prob =  [[0.01734203]] \t Actual = 0.0\n",
            "# this so called remake is terrible i went to see this tonight on the first day as the anticipation and hype was too much for me to handle but within the first half an hour we knew that this is a disaster it not only does not match the hype created but also insults the original blockbuster the script had # the editing was # quite a few times # who is an excellent actor did an okay job amitabh was alright the director wanted to portray how evil his character is but he went a bit overboard which resulted in it being # ajay who is especially smooth in these kind of roles was also a disappointment lets not even get started about the new guy # one wouldn't be proud to start off a career with something like this # # who was thrown in for a few laughs couldn't even get a smile out of anyone because of his # humor and the shrill voice # # proved that she is one of the worst actresses we have today all in all # who i thought was one of the most talented and gifted directors india has had failed miserably he took up such a huge challenge and responsibility to remake what is known as the best hindi movie ever and made a mess out of it\n",
            "None\n",
            "Prediction prob =  [[0.00646678]] \t Actual = 0.0\n",
            "# this was the third muppet movie and the last one jim # was around to take part in the making of before his # death in 1990 the first three films starring the famous characters were all made and released into theatres before i was born i originally saw the first and second # in the original trilogy the muppet movie and the great muppet caper around the mid nineties as a kid but didn't see this third one the muppets take manhattan until april 2007 this was shortly after i had seen its two predecessors and # muppet treasure island for the first time in many years this third muppet movie definitely didn't disappoint me the first time i saw it and my second viewing nearly three years later may not have impressed me as much but if not it certainly didn't go too far downhill br br the # stage musical manhattan # turns out to be a big hit on their college campus they are # from college so they will soon be leaving but decide they will all stay together and go to manhattan to try and get their show on broadway after their arrival they begin searching for a producer but after many # they finally decide to part and go find jobs most of them leave town but # stays and is still determined to find the right producer and reunite the muppet gang he gets a job at a new york restaurant owned by a man named pete the frog quickly befriends # daughter jenny an aspiring fashion designer who currently works at her father's restaurant as a waitress as # continues his attempts to reach stardom now with the help of jenny he doesn't know that miss # has secretly stayed in new york and is now # on him she begins to see # and jenny together and to her it looks like they're getting close which leads to jealousy br br when i saw this movie for the second time it looked disappointing at first it seemed a little rushed # and maybe even forgettable around the beginning there are some funny bits during this part of the film such as animal chasing a woman through the audience on the college campus but for a little while the film seemed bland to me compared to its two predecessors fortunately it wasn't long before that changed the film is entertaining for the most part with saying goodbye the poignant song the muppets sing as they part and a lot that happens after that the two funniest parts might be miss # # after she sees # and jenny # but there were definitely many other times when i laughed such as poor # trying to # with other bears the muppets still have their charm and comical antics which obviously also helps carry the movie for the most part as does the plot a simple but intriguing one for all ages there are some weaker moments such as the muppet babies sequence and # # performance as jenny is # but neither of these problems are too significant and are far from enough to ruin the entire experience br br i would say the muppet movie the film that started the franchise in 1979 is the best of the original trilogy and that seems to be the most popular opinion this third film is probably the weakest of the three but all of them are good unlike muppets from space the third of the theatrical films in the franchise made after # sad passing at least the muppets take manhattan is still the muppets i won't go into details about what i think of the # 1999 film released twenty years after their first one since i've already explained in my review of it why i found it so disappointing and even though it does have some appeal i'm clearly not alone however every theatrical movie starring the lovable muppets that was made during # life is good entertainment for the whole family even if the second and third installment each showed a slight decline in quality after the one that directly # it\n",
            "None\n",
            "Prediction prob =  [[0.9482857]] \t Actual = 1.0\n",
            "# this film was on late at night when i saw it it was interesting at start but it didn't convince me as a whole i am no # fan in fact i don't like boxing at all it's # obscene and double faced by society that some get money for beating each other up br br nevertheless i felt the start of the film was ok actors alright especially george c scott as # # i don't know how reliable the flick is i haven't read books and books about boxing or # i don't know anything about the man but it was quite entertaining br br as the movie went on i felt it lost a little of it's charm and i also lost interest i managed to stay awake though but the last hour was just not good enough\n",
            "None\n",
            "Prediction prob =  [[0.0964191]] \t Actual = 0.0\n",
            "# warning this review contains spoilers do not read if you don't want some points revealed to you before you watch the film br br with a cast like this you wonder whether or not the actors and actresses knew exactly what they were getting into did they see the script and say hey close encounters of the third kind was such a hit that this one can't fail ' unfortunately it does did they even think to check on the director's # i mean would you do a movie with the director of a movie called # # ' # clark who would later go on to direct the infamous final justice ' made this it makes you wonder how the people of mystery science theater 3000 could hammer final # and completely miss out on the return ' br br the film is set in a small town in new mexico a little boy and girl are in the street # one night when a powerful # # er a spaceship appears and # over them in probably the worst special effect sequence of the film the ship # some kind of red # on them it looked like clark had held a # of water in from of the camera lens and # his # pen in it so right away you are treated with cheese anyhow the ship leaves and the adults don't believe the children elsewhere we see vincent # whom i find to be a terrific actor watch his scenes in # for proof as they are outstanding who is playing a # or as i called him the # # he steps out of the cave he is in and he and his dog are # by the ship twenty five years go by and the girl has grown up to be # shepherd who works with her father raymond # in studying unusual weather # or something like that shepherd spots some strange # in satellite pictures over that little new mexico town and she travels there to research it once she gets there the local # # her and blame her for the recent slew of cattle # that have been going on and deputy jan michael vincent comes to her rescue from this point on the film really drags as the two quickly fall for each other especially after vincent # off the locals and informs shepherd that he was the little boy that saw the ship with her twenty five years earlier while this boring mess is happening vincent # with his killer dog at his side is walking around killing the cattle and any people he runs into with an unusual item you know those glowing plastic sticks stores sell for trick or # at halloween the kind that you shake to make them glow # uses what looks like one of those glow sticks to burn # in people it's the second worst effect in the movie every time # is on screen with the glow stick the # atmosphere suddenly turns dark like the filmmakers thought the glow stick needed that # it ends up making the movie look even cheaper than it is br br and what does all this lead up to it's hard to tell when the final confusing scene arrives see # and his team of scientists try to explain the satellite images that shepherd found as some kind of calling card ' but none of it makes sense why do shepherd and vincent age and # does not # explains why he is killing cattle and people and why he wants shepherd dead but even that doesn't make much sense when you really think about it i mean why doesn't he kill jan michael vincent after all he had twenty five years to do it and the aliens won't need him if shepherd is dead anyhow so why try to kill her speaking of the aliens it is never clear what they really wanted out of shepherd and vincent what is their goal why do they wait so long to # how could they be so sure shepherd would come back not that the answer to any of these and other questions would have made the # any more pleasant you would still have bad lines really bad acting particularly by shepherd cheesy effects and poor direction luckily the stars escaped from this movie # shepherd soon went on to star in # with bruce willis jan michael vincent went on to be featured in dozens of b movies often in over the top parts raymond # made a pile of perry mason television movies right up until his death vincent # went on to be a great character actor in a huge number of films martin # who played a # law # officer quickly made the terrific alone in the # and the awful the # before rolling into the films he has been famous for recently you can bet none of these stars ever want their careers to return to the return ' # score 2 out of 10\n",
            "None\n",
            "Prediction prob =  [[0.00951517]] \t Actual = 0.0\n",
            "# the script for this tv soap opera is so bad that even a hopkins at some point had to play like an # drama student so as to bring some life in his script dead character i do not know whether this was the purpose of the director but # # # nothing but vanity fear and lack of self # the real # possibly was all that but then why make a movie about him # was a bit more convincing and his long way down was as if closer to the truth # # was plain ridiculous not because of sarandon but because of the # script while she had to be the central character of this alleged # drama watch it only if you enjoy # soap opera\n",
            "None\n",
            "Prediction prob =  [[0.03285831]] \t Actual = 0.0\n",
            "# hamlet is by far my favorite of all of shakespeare's works # is one heck of an actor his portrayal of this was just amazing his # were breathtaking for as long as it was it is rare for a film to hold my interest however i was # in this particular piece i recommend this to anyone both fan of shakespeare and those not so much this has everything the modern world looks for in its films murder betrayal and # not to knock mel # version but # touches the whole work this leaves no stone # when you finish the film it will feel as if you read the play yourself um how you say two thumbs up\n",
            "None\n",
            "Prediction prob =  [[0.9822161]] \t Actual = 1.0\n",
            "# in this swimming pool this pond there are water # and there are # # sit on water # the frog and water lily have a # relationship marie pauline # is a water lily a # swimming # with a crush on # adele # a frog the captain of her team # # # their leader because the # # and well # blonde conveys a loose persona that betrays the # # mindset of # and discipline but # has a secret the # has a # which # des # reveals to the audience visually before she # in marie br br # has never gone as they say all the way with a boy br br at a party we see a double image of the # sex bomb checking her make up in a bathroom mirror # is a # morgana marie gets to know # double while her imitation breaks the water # heart while the frog goes through the motions of catching flies for # sake she gets # with the water lily when no one's looking in the film's most startling scene the water lily agrees to give the frog a hand in losing her virginity through the mechanical act of # # # wants boys to like her but she doesn't like boys seemingly but it's more important to the frog that she's popular when the water lily finally kisses the frog the frog remains a frog the frog can't # into a water lily or a princess because the water lily lost the # respect after their lips # # tells marie see it's easy which is the # way of # their kiss with the # that her friend gave her as nothing more than a # of passage without any strings attached # beauty is a burden she carries the weight of meeting boy's expectations # uses marie to have one final # before her # morgana # its imitation into the closet br br the other water lily the other frog # best friend anne louise # and # frustrated boy toy # warren # just like any water lily and frog have a # relationship too while # uses marie for love # uses anne for sex but that's life that's the # of growing up in which even a friend will turn on a good friend if the opportunity to move up the food chain presents itself at a # the water lily # the other water lily after bathing # in the # # physical beauty is a # marie gets to call the shots because anne although far from being ugly is overweight and has an # # anne tries to fight back by using her breasts as ample # the # glass from her happy meal incidentally comments on # flat chest but the # marie thinks she's better than anne better than a water lily points out that her breasts are a # of fat br br # girls can be brutal to each other br br later in the final shot # des # suggests that marie has a double too and this # among water # has the potential to turn # in the near future if it not already has # girls can be brutal to each other in a way that no boy could match\n",
            "None\n",
            "Prediction prob =  [[0.82947505]] \t Actual = 1.0\n",
            "# police story is arguably one of the best works by the master of action himself compared to other action films police story makes # and stallone look like # the stunt scenes are well # and the action scenes are superb if new line cinema has any sense they would release this in theaters\n",
            "None\n",
            "Prediction prob =  [[0.9274437]] \t Actual = 1.0\n",
            "# sorry but i will spoil both the plot line and the ending for you in hopes of avoiding a holiday fiasco like the one that i now face the father dies and the mother asks santa in a letter to bring him back to the family for christmas and santa does dad is # happy healthy and totally unaware of the fact that he had died all ends # sweet br br but as a parent who recently watched my five year old lose his best # friend it was a horror flick now my son is convinced that all he has to do to bring his buddy back is to ask santa do not # the # of a young heart no amount of # will convince him that it was only a movie and that his dog is not coming back for christmas it has been heart breaking to watch his joy only to know that christmas eve he will have to face his loss # br br shame on you on behalf of all the # that have lost a loved one recently it is hard enough to deal with the loss one time for a child but there are some wishes that we shouldn't even portray as a possibility\n",
            "None\n",
            "Prediction prob =  [[0.5994606]] \t Actual = 0.0\n",
            "# when philo vance edmund lowe is standing # on the edge of a balcony high above the city apparently # and just about to step to his death it immediately reminded me of a nearly identical scene in another film made nine years later the woman in green in which sherlock holmes basil # is similarly about to # himself into space while being # br br happily both philo vance and sherlock holmes survive these attempts at murder by # criminals exciting cinematic suspense in both these scenes when will they learn you can't cloud the minds of great fictional detectives\n",
            "None\n",
            "Prediction prob =  [[0.9703649]] \t Actual = 1.0\n",
            "# i am rarely moved to make these kind of comments but after sitting through most of # dreadful movie i feel like i have really earned the right to say what i feel about it i couldn't actually make it right to the end and became one of the half dozen or more walk outs about 1 3rd of the audience after the # plot # dialogue and insulting characterisation became just too much to bear this film is all pose and no art all style and no substance it is # down by dreadful acting a genuinely dire script indifferent cinematography and student level production values how it got # started and finished is a mystery to me i bet you a million # it never goes on general release the proper critics would tear it apart a really bad film shockingly bad a really really really poor effort and that is without even mentioning the gratuitous new born # gets dropped into a deep fat # moment totally meaningless utterly lightweight poorly put together this movie is a dreadful embarrassment for uk cinema\n",
            "None\n",
            "Prediction prob =  [[0.00170875]] \t Actual = 0.0\n"
          ],
          "name": "stdout"
        }
      ]
    }
  ]
}